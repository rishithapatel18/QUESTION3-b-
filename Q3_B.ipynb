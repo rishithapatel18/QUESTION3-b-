{
 "cells": [
  {
   "cell_type": "code",
   "execution_count": 1,
   "id": "b979d6f6-dbf1-42de-871a-d74d1110d589",
   "metadata": {},
   "outputs": [
    {
     "name": "stdout",
     "output_type": "stream",
     "text": [
      "Requirement already satisfied: opencv-python in c:\\users\\rishitha\\anaconda3\\lib\\site-packages (4.9.0.80)\n",
      "Requirement already satisfied: numpy>=1.21.2 in c:\\users\\rishitha\\anaconda3\\lib\\site-packages (from opencv-python) (1.26.4)\n",
      "Note: you may need to restart the kernel to use updated packages.\n"
     ]
    }
   ],
   "source": [
    "pip install opencv-python\n"
   ]
  },
  {
   "cell_type": "code",
   "execution_count": 6,
   "id": "4727714e-f06c-4355-8d01-3a521bc060df",
   "metadata": {},
   "outputs": [],
   "source": [
    "import cv2 as cv\n",
    "import numpy as np\n",
    "\n",
    "#creating the range of red color shade  to detect\n",
    "#got rgb values from google :D \n",
    "lower_red = np.array([160, 20, 70]) \n",
    "upper_red = np.array([190, 255, 255]) \n",
    "\n",
    "#this function initialises the webcaml;\n",
    "cap = cv.VideoCapture(0)\n",
    "\n",
    "while True:\n",
    "    #we will split the video frame by fame \n",
    "    #and run a while loop\n",
    "    ret, frame = cap.read()\n",
    "    \n",
    "    if not ret:\n",
    "        break\n",
    "\n",
    "    # Converting into HSV as it detects the colours\n",
    "    hsv = cv.cvtColor(frame, cv.COLOR_BGR2HSV)\n",
    "\n",
    "    #We will mask the objects within\n",
    "    # the colour range we want using inRange function\n",
    "    mask = cv.inRange(hsv, lower_red, upper_red)\n",
    "    cv.imshow('m',mask)\n",
    "\n",
    "    # finding contours\n",
    "    #RETR_EXTERNAL --retrieves the colours from boundary\n",
    "    #CHAIN_APPROX_SIMPLE approximates the lines \n",
    "    #and counverts them to just end points\n",
    "    contours, _ = cv.findContours(mask, cv.RETR_EXTERNAL, cv.CHAIN_APPROX_SIMPLE)\n",
    "\n",
    "    # running a for loop of all the contours detected..\n",
    "    #and getting the endpoints of the diagnol\n",
    "    for contour in contours:\n",
    "        x, y, w, h = cv.boundingRect(contour)\n",
    "        #draws a rectangle with green colour of thinkness 2\n",
    "        cv.rectangle(frame, (x, y), (x + w, y + h), (0, 255, 0), 2)\n",
    "\n",
    "    # show the frame with bounding boxes\n",
    "    #shows original and masked ones\n",
    "    #jupyter notebook can't show cv image directly \n",
    "    #this can be done in to ways- 1> converting to bgr\n",
    "    #                             2> using matplotlib\n",
    "    frame_rgb = cv.cvtColor(frame, cv.COLOR_BGR2RGB) \n",
    "    cv.imshow('Bounding Box Detection', frame_rgb)\n",
    "\n",
    "    # Check for the 'a' key to exit the loop\n",
    "    if cv.waitKey(1) & 0xFF == ord('a'):\n",
    "        break\n",
    "\n",
    "# exit all windows once done\n",
    "cap.release()\n",
    "cv.destroyAllWindows()"
   ]
  },
  {
   "cell_type": "code",
   "execution_count": null,
   "id": "7dae2135-fa26-42c6-84fb-ddee0eaa2ac7",
   "metadata": {},
   "outputs": [],
   "source": []
  },
  {
   "cell_type": "code",
   "execution_count": null,
   "id": "a9b2baf0-58f7-4161-811f-3f1e187f8d1a",
   "metadata": {},
   "outputs": [],
   "source": []
  }
 ],
 "metadata": {
  "kernelspec": {
   "display_name": "Python 3 (ipykernel)",
   "language": "python",
   "name": "python3"
  },
  "language_info": {
   "codemirror_mode": {
    "name": "ipython",
    "version": 3
   },
   "file_extension": ".py",
   "mimetype": "text/x-python",
   "name": "python",
   "nbconvert_exporter": "python",
   "pygments_lexer": "ipython3",
   "version": "3.11.7"
  }
 },
 "nbformat": 4,
 "nbformat_minor": 5
}
